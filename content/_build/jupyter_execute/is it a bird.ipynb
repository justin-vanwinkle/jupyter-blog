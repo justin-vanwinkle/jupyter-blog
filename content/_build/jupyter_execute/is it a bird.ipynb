{
 "cells": [
  {
   "cell_type": "markdown",
   "id": "7c46d3c7",
   "metadata": {},
   "source": [
    "# Is it a bird?\n",
    "\n",
    "This is an book to show how fastai can be trained and used to classify images."
   ]
  },
  {
   "cell_type": "markdown",
   "id": "20d125bc",
   "metadata": {},
   "source": [
    "## Train the model"
   ]
  },
  {
   "cell_type": "code",
   "execution_count": null,
   "id": "71aa8e3f-2bfe-40a0-ba85-173a9f1b4fc7",
   "metadata": {
    "editable": true,
    "slideshow": {
     "slide_type": "slide"
    },
    "tags": []
   },
   "outputs": [],
   "source": [
    "import socket,warnings\n",
    "try:\n",
    "    socket.setdefaulttimeout(1)\n",
    "    socket.socket(socket.AF_INET, socket.SOCK_STREAM).connect(('1.1.1.1', 53))\n",
    "except socket.error as ex: raise Exception(\"STOP: No internet. Click '>|' in top right and set 'Internet' switch to on\")\n",
    "\n",
    "%pip install -Uqq fastai \"duckduckgo_search>=6.2\""
   ]
  },
  {
   "cell_type": "code",
   "execution_count": 3,
   "id": "e0a34c6e",
   "metadata": {
    "editable": true,
    "slideshow": {
     "slide_type": "subslide"
    },
    "tags": []
   },
   "outputs": [],
   "source": [
    "from duckduckgo_search import DDGS\n",
    "from fastcore.all import *\n",
    "\n",
    "def search_images(keywords, max_images=200): return L(DDGS().images(keywords, max_results=max_images)).itemgot('image')\n",
    "import time, json"
   ]
  },
  {
   "cell_type": "code",
   "execution_count": null,
   "id": "9320db5c-7701-4bfe-bb44-42b9a86a8fa5",
   "metadata": {
    "editable": true,
    "slideshow": {
     "slide_type": "fragment"
    },
    "tags": []
   },
   "outputs": [],
   "source": [
    "#NB: `search_images` depends on duckduckgo.com, which doesn't always return correct responses.\n",
    "#    If you get a JSON error, just try running it again (it may take a couple of tries).\n",
    "urls = search_images('bird photos', max_images=1)\n",
    "urls[0]"
   ]
  },
  {
   "cell_type": "code",
   "execution_count": null,
   "id": "79aed9a9-4301-4639-99c0-d8ad96ada50f",
   "metadata": {
    "editable": true,
    "slideshow": {
     "slide_type": "slide"
    },
    "tags": []
   },
   "outputs": [],
   "source": [
    "from fastdownload import download_url\n",
    "dest = 'bird.jpg'\n",
    "download_url(urls[0], dest, show_progress=False)\n",
    "\n",
    "from fastai.vision.all import *\n",
    "im = Image.open(dest)\n",
    "im.to_thumb(256,256)"
   ]
  },
  {
   "cell_type": "code",
   "execution_count": null,
   "id": "dd272802-0711-4a40-89f3-a5e82a9ef70a",
   "metadata": {
    "editable": true,
    "slideshow": {
     "slide_type": "slide"
    },
    "tags": []
   },
   "outputs": [],
   "source": [
    "download_url(search_images('forest photos', max_images=1)[0], 'forest.jpg', show_progress=False)\n",
    "Image.open('forest.jpg').to_thumb(256,256)"
   ]
  },
  {
   "cell_type": "code",
   "execution_count": 8,
   "id": "895d1d18",
   "metadata": {
    "editable": true,
    "slideshow": {
     "slide_type": "subslide"
    },
    "tags": []
   },
   "outputs": [],
   "source": [
    "searches = 'forest','bird'\n",
    "path = Path('bird_or_not')\n",
    "\n",
    "for o in searches:\n",
    "    dest = (path/o)\n",
    "    dest.mkdir(exist_ok=True, parents=True)\n",
    "    download_images(dest, urls=search_images(f'{o} photo'))\n",
    "    time.sleep(5)\n",
    "    resize_images(path/o, max_size=400, dest=path/o)"
   ]
  },
  {
   "cell_type": "code",
   "execution_count": null,
   "id": "e91c570d",
   "metadata": {
    "editable": true,
    "slideshow": {
     "slide_type": ""
    },
    "tags": []
   },
   "outputs": [],
   "source": [
    "failed = verify_images(get_image_files(path))\n",
    "failed.map(Path.unlink)\n",
    "len(failed)"
   ]
  },
  {
   "cell_type": "code",
   "execution_count": null,
   "id": "e027a1c0",
   "metadata": {
    "editable": true,
    "slideshow": {
     "slide_type": ""
    },
    "tags": []
   },
   "outputs": [],
   "source": [
    "dls = DataBlock(\n",
    "    blocks=(ImageBlock, CategoryBlock), \n",
    "    get_items=get_image_files, \n",
    "    splitter=RandomSplitter(valid_pct=0.2, seed=42),\n",
    "    get_y=parent_label,\n",
    "    item_tfms=[Resize(192, method='squish')]\n",
    ").dataloaders(path, bs=32)\n",
    "\n",
    "dls.show_batch(max_n=6)"
   ]
  },
  {
   "cell_type": "code",
   "execution_count": null,
   "id": "00e9fff0",
   "metadata": {},
   "outputs": [],
   "source": [
    "learn = vision_learner(dls, resnet18, metrics=error_rate)\n",
    "learn.fine_tune(3)"
   ]
  },
  {
   "cell_type": "code",
   "execution_count": null,
   "id": "a5ac99ef",
   "metadata": {},
   "outputs": [],
   "source": [
    "type,_,probs = learn.predict(PILImage.create('bird.jpg'))\n",
    "print(f\"This is a: {type}.\")\n",
    "print(f\"Probability it's a {type}: {probs[0]:.4f}\")"
   ]
  },
  {
   "cell_type": "code",
   "execution_count": null,
   "id": "309a80c2",
   "metadata": {},
   "outputs": [],
   "source": [
    "type,_,probs = learn.predict(PILImage.create('forest.jpg'))\n",
    "print(f\"This is a: {type}.\")\n",
    "print(f\"Probability it's a forest: {probs[1]:.4f}\")"
   ]
  },
  {
   "cell_type": "markdown",
   "id": "0e0315b0",
   "metadata": {},
   "source": [
    "## Prepare the model for use in an application"
   ]
  },
  {
   "cell_type": "code",
   "execution_count": 15,
   "id": "688d07e5",
   "metadata": {},
   "outputs": [],
   "source": [
    "# export the model for use in an application (export.pkl)\n",
    "learn.export()"
   ]
  },
  {
   "cell_type": "code",
   "execution_count": 16,
   "id": "be7ea249",
   "metadata": {},
   "outputs": [],
   "source": [
    "# load the model for use in an application\n",
    "learn_inf = load_learner('export.pkl')"
   ]
  },
  {
   "cell_type": "code",
   "execution_count": null,
   "id": "1bf1fadc",
   "metadata": {},
   "outputs": [],
   "source": [
    "# print the model's vocabulary\n",
    "learn_inf.dls.vocab"
   ]
  },
  {
   "cell_type": "code",
   "execution_count": null,
   "id": "afe47a4f",
   "metadata": {},
   "outputs": [],
   "source": [
    "learn_inf.predict('bird.jpg')"
   ]
  },
  {
   "cell_type": "markdown",
   "id": "0076d66a",
   "metadata": {},
   "source": [
    "## Create an application to use the model"
   ]
  },
  {
   "cell_type": "code",
   "execution_count": null,
   "id": "9062898f",
   "metadata": {},
   "outputs": [],
   "source": [
    "! pip install -Uqq fastai\n",
    "from fastai import *\n",
    "from fastai.vision.widgets import *\n",
    "\n",
    "btn_upload = widgets.FileUpload()\n",
    "btn_upload\n"
   ]
  },
  {
   "cell_type": "code",
   "execution_count": null,
   "id": "7a470b45",
   "metadata": {},
   "outputs": [],
   "source": [
    "import io\n",
    "\n",
    "# create a button to do classification\n",
    "btn_run = widgets.Button(description='Classify')\n",
    "btn_run\n",
    "\n",
    "# display the prediction via labels\n",
    "lbl_pred = widgets.Label()\n",
    "lbl_pred.value = f'Prediction: {pred}; Probability: {probs[pred_idx]:.04f}'\n",
    "lbl_pred\n",
    "\n",
    "def on_click_classify(change):\n",
    "    uploaded_file = btn_upload.value[0]\n",
    "    img = PILImage.create(io.BytesIO(uploaded_file.content.tobytes()))\n",
    "    out_pl.clear_output()\n",
    "    with out_pl: display(img.to_thumb(128,128))\n",
    "    pred,pred_idx,probs = learn_inf.predict(img)\n",
    "    lbl_pred.value = f'Prediction: {pred}; Probability: {probs[pred_idx]:.04f}'\n",
    "\n",
    "btn_run.on_click(on_click_classify)\n"
   ]
  },
  {
   "cell_type": "code",
   "execution_count": null,
   "id": "e24465c3",
   "metadata": {},
   "outputs": [],
   "source": [
    "VBox([widgets.Label('Select your image!'), \n",
    "      btn_upload, btn_run, out_pl, lbl_pred])"
   ]
  },
  {
   "cell_type": "code",
   "execution_count": null,
   "id": "a6bab31e",
   "metadata": {},
   "outputs": [],
   "source": [
    "!pip install voila\n",
    "!jupyter server extension enable --sys-prefix voila"
   ]
  }
 ],
 "metadata": {
  "kernelspec": {
   "display_name": "Python 3 (ipykernel)",
   "language": "python",
   "name": "python3"
  },
  "language_info": {
   "codemirror_mode": {
    "name": "ipython",
    "version": 3
   },
   "file_extension": ".py",
   "mimetype": "text/x-python",
   "name": "python",
   "nbconvert_exporter": "python",
   "pygments_lexer": "ipython3",
   "version": "3.10.16"
  }
 },
 "nbformat": 4,
 "nbformat_minor": 5
}